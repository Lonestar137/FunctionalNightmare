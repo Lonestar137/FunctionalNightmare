{
 "cells": [
  {
   "attachments": {},
   "cell_type": "markdown",
   "metadata": {},
   "source": [
    "# Functional Programming "
   ]
  },
  {
   "attachments": {},
   "cell_type": "markdown",
   "metadata": {},
   "source": [
    "## Test suite code"
   ]
  },
  {
   "cell_type": "code",
   "execution_count": 1,
   "metadata": {},
   "outputs": [
    {
     "data": {
      "text/plain": [
       "Intitializing Scala interpreter ..."
      ]
     },
     "metadata": {},
     "output_type": "display_data"
    },
    {
     "data": {
      "text/plain": [
       "Spark Web UI available at http://DESKTOP-05L8NA9:4040\n",
       "SparkContext available as 'sc' (version = 2.4.8, master = local[*], app id = local-1672526062609)\n",
       "SparkSession available as 'spark'\n"
      ]
     },
     "metadata": {},
     "output_type": "display_data"
    },
    {
     "data": {
      "text/plain": [
       "exampleHeader: [A](str: A)Unit\r\n",
       "exampleExceptions: PartialFunction[String,Unit] = <function1>\r\n",
       "headerWrap: [A, B](f: PartialFunction[A,B])A => B\n"
      ]
     },
     "execution_count": 1,
     "metadata": {},
     "output_type": "execute_result"
    }
   ],
   "source": [
    "def exampleHeader[A](str: A): Unit = {\n",
    "    val header = str match {\n",
    "        case s: String => s\"________${s}_________\"\n",
    "        case _ =>         s\"___Invalid header____\"\n",
    "    }\n",
    "\n",
    "    println(header)\n",
    "}\n",
    "\n",
    "\n",
    "val exampleExceptions: PartialFunction[String, Unit] = {\n",
    "    case y: String => {\n",
    "        exampleHeader(\"Exception occured\")\n",
    "        println(s\"No match for: `${y}`\")\n",
    "    }\n",
    "}\n",
    "\n",
    "def headerWrap[A, B](f: PartialFunction[A, B]): A => B = {\n",
    "    // a is the argument passed to the function\n",
    "    a => {\n",
    "        exampleHeader(a) // add the header\n",
    "        f(a) // then do the function\n",
    "    }\n",
    "}\n"
   ]
  },
  {
   "attachments": {},
   "cell_type": "markdown",
   "metadata": {},
   "source": [
    "### Template"
   ]
  },
  {
   "cell_type": "code",
   "execution_count": null,
   "metadata": {},
   "outputs": [],
   "source": [
    "// copy this code block to create your test suite block.\n",
    "val ex: PartialFunction[String, Unit] = {\n",
    "    case \"your test case\" => {\n",
    "        // your code here\n",
    "        println(\"do something\")\n",
    "    }\n",
    "}\n",
    "val examples = headerWrap(ex)\n",
    "examples(\"your test case\") "
   ]
  },
  {
   "attachments": {},
   "cell_type": "markdown",
   "metadata": {},
   "source": [
    "## Basics"
   ]
  },
  {
   "attachments": {},
   "cell_type": "markdown",
   "metadata": {},
   "source": [
    "### Partial Function\n",
    "A `PartialFunction` in Scala is a function that is defined for a subset of its input values. A `PartialFunction` can be used to represent a function that may not be defined for all possible input values, or to define a function that has multiple cases with different behavior for different input values."
   ]
  },
  {
   "cell_type": "code",
   "execution_count": 3,
   "metadata": {},
   "outputs": [
    {
     "name": "stdout",
     "output_type": "stream",
     "text": [
      "5\n",
      "________Exception occured_________\n",
      "No match for: `exampleExceptions`\n"
     ]
    },
    {
     "data": {
      "text/plain": [
       "ex: PartialFunction[String,Unit] = <function1>\r\n",
       "examples: PartialFunction[String,Unit] = <function1>\n"
      ]
     },
     "execution_count": 3,
     "metadata": {},
     "output_type": "execute_result"
    }
   ],
   "source": [
    "val ex: PartialFunction[String, Unit] = {\n",
    "    case \"Basic\" => {\n",
    "        // Basically you're making an options list here.  This function can only be called with 1, 2, or 3 \n",
    "        val pf: PartialFunction[Int, String] = {\n",
    "            case 1 => \"one\"\n",
    "            case 2 => \"two\"\n",
    "            case 3 => \"three\"\n",
    "        }\n",
    "\n",
    "        println(pf.isDefinedAt(1)) // true\n",
    "        println(pf.isDefinedAt(4)) // false\n",
    "\n",
    "\n",
    "        val pf2: PartialFunction[Int, String] = {\n",
    "            case 4 => \"four\"\n",
    "            case 5 => \"five\"\n",
    "        }\n",
    "\n",
    "        // You can combine two partial functions, NOTE: Using a variable here is required.\n",
    "        val pf3 = pf.orElse(pf2)\n",
    "\n",
    "        println(pf3(1)) // \"one\"\n",
    "        println(pf3(4)) // \"four\"\n",
    "    }\n",
    "\n",
    "\n",
    "    case \"Use with Try\" => {\n",
    "        import scala.util.{Try, Success, Failure}\n",
    "\n",
    "        def divide(x: Int, y: Int): Int = x / y\n",
    "\n",
    "        val result: Try[Int] = Try(divide(10, 2))\n",
    "\n",
    "        // this is just a partial function with 3 cases\n",
    "        result match {\n",
    "        case Success(value) => println(value)  // prints 5\n",
    "        case Failure(e: ArithmeticException) => println(\"Division by zero\")\n",
    "        case Failure(e) => e.printStackTrace()\n",
    "        }\n",
    "    }\n",
    "}\n",
    "val examples = ex.orElse(exampleExceptions)\n",
    "\n",
    "examples(\"Use with Try\")\n",
    "examples(\"exampleExceptions\")\n",
    "\n",
    "// Try example\n",
    "\n"
   ]
  },
  {
   "attachments": {},
   "cell_type": "markdown",
   "metadata": {},
   "source": [
    "## Function definitions"
   ]
  },
  {
   "cell_type": "code",
   "execution_count": 12,
   "metadata": {},
   "outputs": [
    {
     "ename": "<console>",
     "evalue": "25: error: not found: type A\r",
     "output_type": "error",
     "traceback": [
      "<console>:25: error: not found: type A\r",
      "       def foldLeft[B](z: B)(op: (B, A) => B): B // so it takes some element of type B, and curries a function which takes a function which takes two arguments the accumulator(B) and increment(A), (B, A)\r",
      "                                     ^",
      ""
     ]
    }
   ],
   "source": [
    "// definition for foldLeft\n",
    "def foldLeft[B](z: B)(op: (B, A) => B): B // so it takes some element of type B, and curries a function which takes a function which takes two arguments the accumulator(B) and increment(A), (B, A)\n",
    "\n",
    "List(1,2,3).foldLeft(0)((accumulator, x) => accumulator + x)"
   ]
  },
  {
   "attachments": {},
   "cell_type": "markdown",
   "metadata": {},
   "source": [
    "## Higher-order functions\n",
    "These are functions that take other functions as arguments or return them as output. Higher-order functions are a powerful tool for abstracting common patterns in functional programming and can help you write more concise and reusable code."
   ]
  },
  {
   "attachments": {},
   "cell_type": "markdown",
   "metadata": {},
   "source": [
    "### Implement Map function\n",
    "Implement a map function: You can use higher-order functions to implement a map function, which applies a given function to each element of a list and returns a new list with the transformed elements. For example:"
   ]
  },
  {
   "cell_type": "code",
   "execution_count": 4,
   "metadata": {},
   "outputs": [
    {
     "data": {
      "text/plain": [
       "map: [A, B](l: List[A], f: A => B)List[B]\n"
      ]
     },
     "execution_count": 4,
     "metadata": {},
     "output_type": "execute_result"
    }
   ],
   "source": [
    "def map[A, B](l: List[A], f: A=>B): List[B] = {\n",
    "    l match {\n",
    "        case Nil => Nil\n",
    "        case h :: t => f(h) :: map(t,f)\n",
    "    }\n",
    "}"
   ]
  },
  {
   "cell_type": "code",
   "execution_count": 13,
   "metadata": {},
   "outputs": [
    {
     "name": "stdout",
     "output_type": "stream",
     "text": [
      "________convert string to int_________\n",
      "List(1, 2, 3)\n"
     ]
    },
    {
     "data": {
      "text/plain": [
       "ex: PartialFunction[String,Unit] = <function1>\r\n",
       "examples: String => Unit = <function1>\n"
      ]
     },
     "execution_count": 13,
     "metadata": {},
     "output_type": "execute_result"
    }
   ],
   "source": [
    "val ex: PartialFunction[String, Unit] = {\n",
    "    case \"convert string to int\" => {\n",
    "        val l: List[String] = List(\"1\", \"2\", \"3\")\n",
    "        val ints: List[Int] = l.map(_.toInt)\n",
    "        println(ints)\n",
    "    }\n",
    "}\n",
    "\n",
    "val examples = headerWrap(ex)\n",
    "\n",
    "examples(\"convert string to int\")"
   ]
  },
  {
   "attachments": {},
   "cell_type": "markdown",
   "metadata": {},
   "source": [
    "### Implement Fold function  \n",
    "Implement a fold function: You can use higher-order functions to implement a fold function, which reduces a list to a single value by repeatedly applying a given function to the elements of the list. For example:"
   ]
  },
  {
   "cell_type": "code",
   "execution_count": 5,
   "metadata": {},
   "outputs": [
    {
     "name": "stdout",
     "output_type": "stream",
     "text": [
      "________fold a List_________\n",
      "15\n",
      "120\n",
      "________calculate length of list_________\n",
      "5\n",
      "________reverse a list_________\n",
      "List(5, 4, 3, 2, 1)\n"
     ]
    },
    {
     "data": {
      "text/plain": [
       "fold: [A, B](l: List[A], z: B, f: (B, A) => B)B\r\n",
       "l: List[Int] = List(1, 2, 3, 4, 5)\r\n",
       "ex: PartialFunction[String,Unit] = <function1>\r\n",
       "examples: String => Unit = <function1>\n"
      ]
     },
     "execution_count": 5,
     "metadata": {},
     "output_type": "execute_result"
    }
   ],
   "source": [
    "\n",
    "def fold[A, B](l: List[A], z: B, f: (B, A) => B): B = {\n",
    "    l match {\n",
    "        case Nil => z\n",
    "        case h :: t => fold(t, f(z, h), f)\n",
    "    }\n",
    "}\n",
    "val l = List(1,2,3,4,5)\n",
    "\n",
    "val ex: PartialFunction[String, Unit] = {\n",
    "    case \"fold a List\" => {\n",
    "        // exampleHeader(str)\n",
    "        val sum = fold(l, 0, (x: Int, y: Int) => x + y)\n",
    "        println(sum)//15\n",
    "        val product = fold(l, 1, (x: Int, y: Int) => x * y)\n",
    "        println(product)//120\n",
    "    }\n",
    "\n",
    "    case \"calculate length of list\" => {\n",
    "        // exampleHeader(str)\n",
    "        def length[A](l: List[A]): Int = {\n",
    "            fold(l, 0, (acc: Int, _: A) => acc + 1)\n",
    "        }\n",
    "\n",
    "        println(length(l)) // prints 5\n",
    "    }\n",
    "\n",
    "    case \"reverse a list\" => {\n",
    "        def reverse[A](l: List[A]): List[A] = {\n",
    "            fold(l, List.empty[A], (acc: List[A], x: A) => x :: acc)\n",
    "        }\n",
    "\n",
    "        println(reverse(l)) // prints List(5,4,3,2,1)\n",
    "    }\n",
    "\n",
    "    case \"roman numeral to int\" => {\n",
    "        def romanToInt(s: String): Int = {\n",
    "        val map: Map[Char, Int] = Map(\n",
    "            'I' -> 1,\n",
    "            'V' -> 5,\n",
    "            'X' -> 10,\n",
    "            'L' -> 50,\n",
    "            'C' -> 100,\n",
    "            'D' -> 500,\n",
    "            'M' -> 1000,\n",
    "        )\n",
    "        s\n",
    "            //convert to the list of int values\n",
    "            //for example: IV => 1,5, XX => 10,10\n",
    "            .map(map)\n",
    "            //fold list adding negatives: if value decreases append as is, else add two more negatives\n",
    "            //for example: IV => 1,5 => 1,-1,-1,5 = 4\n",
    "            .foldLeft(List[Int](0))((a, b) => {\n",
    "            if (a.head >= b) {\n",
    "                b :: a\n",
    "            } else {\n",
    "                b :: -a.head :: -a.head :: a\n",
    "            }\n",
    "            })\n",
    "            //calc sum\n",
    "            .sum\n",
    "        }\n",
    "    }\n",
    "}\n",
    "\n",
    " val examples = headerWrap(ex)\n",
    "\n",
    "examples(\"fold a List\")\n",
    "examples(\"calculate length of list\")\n",
    "examples(\"reverse a list\")\n",
    "\n"
   ]
  },
  {
   "attachments": {},
   "cell_type": "markdown",
   "metadata": {},
   "source": [
    "### Custom control structures  \n",
    "Create custom control structures: You can use higher-order functions to create custom control structures, such as while loops or try-catch blocks, by wrapping them in a function and passing them as arguments to other functions. For example:"
   ]
  },
  {
   "cell_type": "code",
   "execution_count": 6,
   "metadata": {},
   "outputs": [
    {
     "name": "stdout",
     "output_type": "stream",
     "text": [
      "0\n",
      "1\n",
      "2\n",
      "3\n",
      "4\n",
      "5\n",
      "6\n",
      "7\n",
      "8\n",
      "9\n",
      "(Result: ,0)\n"
     ]
    },
    {
     "data": {
      "text/plain": [
       "whileloop: (cond: => Boolean)(body: => Unit)Unit\r\n",
       "tryCatch: [T](body: => T)(catchBlock: PartialFunction[Throwable,T])T\r\n",
       "i: Int = 10\r\n",
       "divide: (x: Int, y: Int)Int\r\n",
       "result: Int = 0\n"
      ]
     },
     "execution_count": 6,
     "metadata": {},
     "output_type": "execute_result"
    }
   ],
   "source": [
    "def whileloop(cond: => Boolean)(body: => Unit): Unit = {\n",
    "    if(cond){\n",
    "        body\n",
    "        whileloop(cond)(body)\n",
    "    }\n",
    "}\n",
    "\n",
    "// catchBlock is a PartialFunction that takes a Throwable ARGUMENT and returns T the same return type as tryCatch\n",
    "def tryCatch[T](body: => T)(catchBlock: PartialFunction[Throwable, T]): T = {\n",
    "    try{\n",
    "        body\n",
    "    } catch catchBlock\n",
    "}\n",
    "\n",
    "\n",
    "// Example usages:\n",
    "var i = 0\n",
    "whileloop(i < 10){\n",
    "    println(i)\n",
    "    i += 1\n",
    "}\n",
    "\n",
    "def divide(x: Int, y: Int): Int = {\n",
    "    if(y == 0) throw new ArithmeticException(\"Division by zero\")\n",
    "    else x/y\n",
    "}\n",
    "\n",
    "val result = tryCatch(divide(10, 0)){\n",
    "    case e: ArithmeticException => 0\n",
    "}\n",
    "println(\"Result: \", result)\n"
   ]
  },
  {
   "attachments": {},
   "cell_type": "markdown",
   "metadata": {},
   "source": [
    "## Currying\n",
    "This is a technique for converting a function that takes multiple arguments into a series of functions that each take a single argument. Currying can make it easier to partially apply functions and create specialized versions of functions."
   ]
  },
  {
   "cell_type": "code",
   "execution_count": 8,
   "metadata": {},
   "outputs": [
    {
     "name": "stdout",
     "output_type": "stream",
     "text": [
      "________curry booleans_________\n",
      "yep\n",
      "other block\n",
      "________curry function result_________\n",
      "greater than 0\n"
     ]
    },
    {
     "data": {
      "text/plain": [
       "ex: PartialFunction[String,Unit] = <function1>\r\n",
       "examples: String => Unit = <function1>\n"
      ]
     },
     "execution_count": 8,
     "metadata": {},
     "output_type": "execute_result"
    }
   ],
   "source": [
    "val ex: PartialFunction[String, Unit] = {\n",
    "    case str @ \"curry booleans\" => {\n",
    "        // exampleHeader(str) -- leaving these here but basically these do the same as headerWrap(), if you uncomment the ex.orElse line\n",
    "\n",
    "        // You can curry function blocks -- refer to Higher order functions whileloop and tryCatch section for more details.\n",
    "        def test(x: => Boolean)(y: => Unit): Unit = {\n",
    "            if(x) y\n",
    "            else println(\"other block\")\n",
    "        }\n",
    "\n",
    "        test(1 > 0){\n",
    "            println(\"yep\")\n",
    "        }\n",
    "        test(1 < 0){\n",
    "            println(\"shouldn't print this\")\n",
    "        }\n",
    "\n",
    "    }\n",
    "\n",
    "    case str @ \"curry function result\" => {\n",
    "        // exampleHeader(str)\n",
    "\n",
    "        def takesInt(x: => Int)(y: => Unit): Unit = {\n",
    "            if(x > 0) y\n",
    "            else println(\"other block\")\n",
    "        }\n",
    "\n",
    "        def sum(x: Int, y: Int): Int = x + y\n",
    "        takesInt(sum(1,2)){println(\"greater than 0\")}\n",
    "\n",
    "    }\n",
    "\n",
    "}\n",
    "\n",
    "val examples = headerWrap(ex)\n",
    "\n",
    "// val examples = ex.orElse(exampleExceptions)\n",
    "\n",
    "examples(\"curry booleans\")\n",
    "examples(\"curry function result\")\n"
   ]
  },
  {
   "attachments": {},
   "cell_type": "markdown",
   "metadata": {},
   "source": [
    "## Partial applications\n",
    "This is the process of creating a new function by fixing one or more arguments of an existing function. Partial application can be used to create specialized versions of functions that are easier to reuse in different contexts."
   ]
  },
  {
   "attachments": {},
   "cell_type": "markdown",
   "metadata": {},
   "source": [
    "## Pure functions\n",
    "These are functions that always return the same output for a given input and have no side effects. Pure functions are easier to test and reason about, and they are an important concept in functional programming."
   ]
  },
  {
   "cell_type": "code",
   "execution_count": null,
   "metadata": {},
   "outputs": [],
   "source": [
    "\n",
    "def add(x: Int, y: Int): Int = x + y // this function is pure because it doesn't modify any external variables or states(like printing to console).\n",
    "def double(l : List[Int]): List[Int] = l.map(_ * 2) // doesn't modify the original list, just returns a new list.\n",
    "def removeVowels(s: String): String = s.replaceAll(\"[aeiou]\", \"\") // doesn't modify the original string "
   ]
  },
  {
   "attachments": {},
   "cell_type": "markdown",
   "metadata": {},
   "source": [
    "## Recursion\n",
    "This is a technique for defining functions that call themselves as part of their execution. Recursion is a common technique in functional programming and is often used to solve problems that can be naturally decomposed into smaller subproblems."
   ]
  },
  {
   "cell_type": "code",
   "execution_count": 3,
   "metadata": {},
   "outputs": [
    {
     "data": {
      "text/plain": [
       "readIndex: (x: Char)Int\r\n",
       "romanToInt: (s: String)Int\n"
      ]
     },
     "execution_count": 3,
     "metadata": {},
     "output_type": "execute_result"
    }
   ],
   "source": [
    "    def readIndex(x:Char) : Int = {\n",
    "        x match {\n",
    "            case 'I' => 1 \n",
    "            case 'V' => 5\n",
    "            case 'X' => 10\n",
    "            case 'L' => 50\n",
    "            case 'C' => 100\n",
    "            case 'D' => 500\n",
    "            case 'M' => 1000\n",
    "            case _ => 0\n",
    "        }\n",
    "    }\n",
    "    def romanToInt(s: String): Int = {\n",
    "        def worker(l:List[Int] = s.toList.map(readIndex)):Int ={\n",
    "            l match{\n",
    "                case Nil => 0\n",
    "                case s1::s2::ss if s1 >= s2 => s1 + worker(s2::ss) \n",
    "                case s1::s2::ss if s1 < s2 => s2 - s1 + worker(ss) \n",
    "                case s1::Nil => s1\n",
    "            }\n",
    "        }\n",
    "        \n",
    "        worker()\n",
    "    }\n",
    "\n",
    "    assert(romanToInt(\"IV\") == 4)\n",
    "    assert(romanToInt(\"MC\") == 1100)\n",
    "    assert(romanToInt(\"CM\") == 900)"
   ]
  },
  {
   "attachments": {},
   "cell_type": "markdown",
   "metadata": {},
   "source": [
    "### Recursion coding challenge\n",
    "\n",
    "There are 10 problems with increasing difficulty, try to solve each w/ Recursion.  \n",
    "1. Write a recursive function that calculates the sum of all the elements in a list of integers.\n",
    "2. Write a recursive function that calculates the product of all the elements in a list of integers.\n",
    "3. Write a recursive function that calculates the sum of the digits of a positive integer. For example, the sum of the digits of 123 is 6.\n",
    "4. Write a recursive function that calculates the factorial of a positive integer.\n",
    "5. Write a recursive function that calculates the Fibonacci numbers. The Fibonacci numbers are a series of numbers where each number is the sum of the previous two numbers. The first two numbers in the series are 0 and 1, and the rest of the numbers are generated by adding the previous two numbers.\n",
    "6. Write a recursive function that calculates the greatest common divisor (GCD) of two positive integers.\n",
    "7. Write a recursive function that calculates the sum of the digits of all the numbers from 1 to n.\n",
    "8. Write a recursive function that calculates the number of ways to make change for a given amount of money using a given set of denominations.\n",
    "9. Write a recursive function that calculates the nth number in the Catalan sequence. The Catalan sequence is a series of numbers where the nth number is the sum of the binomial coefficients of the first n natural numbers.\n",
    "10. Write a recursive function that calculates the number of ways to arrange a set of items in a list."
   ]
  },
  {
   "cell_type": "code",
   "execution_count": 16,
   "metadata": {},
   "outputs": [
    {
     "name": "stdout",
     "output_type": "stream",
     "text": [
      "Recursively:\n",
      "________sum a list_________\n",
      "15\n",
      "________find product_________\n",
      "(1,List(2, 3, 4, 5))\n",
      "(2,List(3, 4, 5))\n",
      "(3,List(4, 5))\n",
      "(4,List(5))\n",
      "(5,List())\n",
      "120\n"
     ]
    },
    {
     "data": {
      "text/plain": [
       "ex: PartialFunction[String,Unit] = <function1>\r\n",
       "examples: String => Unit = <function1>\n"
      ]
     },
     "execution_count": 16,
     "metadata": {},
     "output_type": "execute_result"
    }
   ],
   "source": [
    "// Folds, map functions work great here.  \n",
    "\n",
    "println(\"Recursively:\")\n",
    "val ex: PartialFunction[String, Unit] = {\n",
    "\n",
    "    case \"sum a list\" => {\n",
    "        val l = Seq(1,2,3,4,5) \n",
    "        def sum(l: Seq[Int]): Int = l match {\n",
    "            case Nil => 0\n",
    "            case head :: tail => head + sum(tail) // ex: first iter,   head = 1 and tail = List(2,3,4,5)\n",
    "        }\n",
    "\n",
    "        println(sum(l))\n",
    "    }\n",
    "    case \"find product\" => {\n",
    "        val l = Seq(1,2,3,4,5) \n",
    "        def product(l: Seq[Int]): Int = l match {\n",
    "            case Nil => 1 // can't multiply by 0\n",
    "            case head :: tail => \n",
    "                println(head, tail)\n",
    "                head * product(tail) \n",
    "        }\n",
    "\n",
    "        println(product(l))\n",
    "    }\n",
    "    case \"sum of digits in positive integer\" => {\n",
    "\n",
    "    }\n",
    "}\n",
    "val examples = headerWrap(ex)\n",
    "\n",
    "examples(\"sum a list\") \n",
    "examples(\"find product\") \n",
    "examples(\"sum of digits in positive integer\") "
   ]
  }
 ],
 "metadata": {
  "kernelspec": {
   "display_name": "spylon-kernel",
   "language": "scala",
   "name": "spylon-kernel"
  },
  "language_info": {
   "codemirror_mode": "text/x-scala",
   "file_extension": ".scala",
   "help_links": [
    {
     "text": "MetaKernel Magics",
     "url": "https://metakernel.readthedocs.io/en/latest/source/README.html"
    }
   ],
   "mimetype": "text/x-scala",
   "name": "scala",
   "pygments_lexer": "scala",
   "version": "0.4.1"
  },
  "orig_nbformat": 4
 },
 "nbformat": 4,
 "nbformat_minor": 2
}
